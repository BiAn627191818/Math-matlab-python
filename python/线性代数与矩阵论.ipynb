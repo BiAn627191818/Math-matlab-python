{
 "cells": [
  {
   "cell_type": "markdown",
   "id": "b8229d4e",
   "metadata": {},
   "source": [
    "# 本科所学线性代数梳理\n",
    "\n",
    "\n",
    "## 一般都是考研数学的范畴代码实现\n",
    "\n",
    "\n",
    "## 行列式"
   ]
  },
  {
   "cell_type": "code",
   "execution_count": 4,
   "id": "ca2cd1ed",
   "metadata": {},
   "outputs": [
    {
     "name": "stdout",
     "output_type": "stream",
     "text": [
      "4.999999999999999\n"
     ]
    }
   ],
   "source": [
    "#P92\n",
    "import numpy as np\n",
    "A = np.array([[1,0,0],[0,1,0],[0,0,5]])\n",
    "d = np.linalg.det(A)  #完成计算行列式值的过程\n",
    "print(d)"
   ]
  },
  {
   "cell_type": "code",
   "execution_count": 5,
   "id": "ccba5d37",
   "metadata": {},
   "outputs": [
    {
     "name": "stdout",
     "output_type": "stream",
     "text": [
      "0.0\n"
     ]
    }
   ],
   "source": [
    "#P92\n",
    "import numpy as np\n",
    "A = np.array([[1,2,3],[4,5,6],[7,8,9]])\n",
    "d = np.linalg.det(A)\n",
    "print(d)"
   ]
  },
  {
   "cell_type": "markdown",
   "id": "fd568cc6",
   "metadata": {},
   "source": [
    "## 矩阵"
   ]
  },
  {
   "cell_type": "code",
   "execution_count": 1,
   "id": "89ba460a",
   "metadata": {},
   "outputs": [
    {
     "name": "stdout",
     "output_type": "stream",
     "text": [
      "[[4 1]\n",
      " [2 2]]\n"
     ]
    }
   ],
   "source": [
    "#P69\n",
    "import numpy as np\n",
    "A=np.array([[1,0],[0,1]])\n",
    "B=np.array([[4,1],[2,2]])\n",
    "C=np.dot(A,B)       #完成矩阵相乘\n",
    "print(C)"
   ]
  },
  {
   "cell_type": "code",
   "execution_count": 2,
   "id": "0086e27c",
   "metadata": {},
   "outputs": [
    {
     "name": "stdout",
     "output_type": "stream",
     "text": [
      "[[1.  0.  0. ]\n",
      " [0.  1.  0. ]\n",
      " [0.  0.  0.2]]\n"
     ]
    }
   ],
   "source": [
    "#P77\n",
    "import numpy as np\n",
    "A=np.array([[1,0,0],[0,1,0],[0,0,5]])\n",
    "B=np.linalg.inv(A)   #完成计算逆矩阵的过程\n",
    "print(B)"
   ]
  },
  {
   "cell_type": "markdown",
   "id": "bdaa7c30",
   "metadata": {},
   "source": [
    "## 线性方程组"
   ]
  },
  {
   "cell_type": "code",
   "execution_count": 5,
   "id": "02f04a03",
   "metadata": {},
   "outputs": [
    {
     "name": "stdout",
     "output_type": "stream",
     "text": [
      "[2. 3.]\n"
     ]
    }
   ],
   "source": [
    "#P97\n",
    "import numpy as np\n",
    "A = np.array([[3,1],[1,2]])\n",
    "b = np.array([9,8])\n",
    "x = np.linalg.solve(A,b)  #完成求解该方程组的过程\n",
    "print(x)"
   ]
  },
  {
   "cell_type": "markdown",
   "id": "ea18999d",
   "metadata": {},
   "source": [
    "## 特征值和特征向量"
   ]
  },
  {
   "cell_type": "code",
   "execution_count": 6,
   "id": "59752f78",
   "metadata": {},
   "outputs": [
    {
     "name": "stdout",
     "output_type": "stream",
     "text": [
      "[1. 1. 5.]\n",
      "[[1. 0. 0.]\n",
      " [0. 1. 0.]\n",
      " [0. 0. 1.]]\n"
     ]
    }
   ],
   "source": [
    "#P100\n",
    "import numpy as np\n",
    "A = np.array([[1,0,0],[0,1,0],[0,0,5]])\n",
    "eigvalues,eigvectors = np.linalg.eig(A)\n",
    "print(eigvalues)     #完成该矩阵特征值和特征向量的过程\n",
    "print(eigvectors)"
   ]
  },
  {
   "cell_type": "markdown",
   "id": "b98cbcfb",
   "metadata": {},
   "source": [
    "# 接下来是研究生的矩阵论\n",
    "\n",
    "\n",
    "## 矩阵的分解\n"
   ]
  },
  {
   "cell_type": "code",
   "execution_count": 9,
   "id": "82577921",
   "metadata": {},
   "outputs": [
    {
     "name": "stdout",
     "output_type": "stream",
     "text": [
      "[[ 2.44948974  0.          0.          0.        ]\n",
      " [ 1.22474487  2.12132034  0.          0.        ]\n",
      " [ 1.63299316  1.41421356  2.30940108  0.        ]\n",
      " [ 3.26598632 -1.41421356  1.58771324  3.13249102]]\n"
     ]
    }
   ],
   "source": [
    "#P123\n",
    "import numpy as np\n",
    "A=np.array([[6,3,4,8],[3,6,5,1],[4,5,10,7],[8,1,7,25]])\n",
    "L=np.linalg.cholesky(A)  #该函数实现了对称的楚列斯基分解，函数的输入是被分解矩阵A，输出为下三角矩阵L\n",
    "print(L)"
   ]
  },
  {
   "cell_type": "code",
   "execution_count": 10,
   "id": "64b5f820",
   "metadata": {},
   "outputs": [
    {
     "name": "stdout",
     "output_type": "stream",
     "text": [
      "[[-0.12309149  0.90453403  0.40824829]\n",
      " [-0.49236596  0.30151134 -0.81649658]\n",
      " [-0.86164044 -0.30151134  0.40824829]]\n",
      "[[-8.12403840e+00 -9.60113630e+00 -1.10782342e+01]\n",
      " [ 0.00000000e+00  9.04534034e-01  1.80906807e+00]\n",
      " [ 0.00000000e+00  0.00000000e+00 -8.88178420e-16]]\n"
     ]
    }
   ],
   "source": [
    "#P127\n",
    "import numpy as np\n",
    "A=np.array([[1,2,3],[4,5,6],[7,8,9]])\n",
    "Q,R=np.linalg.qr(A)   #实现QR分解\n",
    "print(Q)\n",
    "print(R)"
   ]
  },
  {
   "cell_type": "code",
   "execution_count": 12,
   "id": "e61f892b",
   "metadata": {},
   "outputs": [
    {
     "name": "stdout",
     "output_type": "stream",
     "text": [
      "[[-0.24253563 -0.9701425 ]\n",
      " [-0.9701425   0.24253563]]\n",
      "[[-4.12310563 -5.33578375 -6.54846188]\n",
      " [ 0.         -0.72760688 -1.45521375]]\n"
     ]
    }
   ],
   "source": [
    "#P127\n",
    "import numpy as np\n",
    "A=np.array([[1,2,3],[4,5,6]])\n",
    "Q,R=np.linalg.qr(A)\n",
    "print(Q)\n",
    "print(R)"
   ]
  },
  {
   "cell_type": "code",
   "execution_count": 11,
   "id": "312900cc",
   "metadata": {},
   "outputs": [
    {
     "name": "stdout",
     "output_type": "stream",
     "text": [
      "[[-0.3863177  -0.92236578]\n",
      " [-0.92236578  0.3863177 ]]\n",
      "[9.508032   0.77286964]\n",
      "[[-0.42866713 -0.56630692 -0.7039467 ]\n",
      " [ 0.80596391  0.11238241 -0.58119908]\n",
      " [ 0.40824829 -0.81649658  0.40824829]]\n"
     ]
    }
   ],
   "source": [
    "#P132\n",
    "from numpy import *\n",
    "data = [[1,2,3],[4,5,6]]\n",
    "u,sigma,vt=linalg.svd(data)    #SVD分解（适用于满秩分解）\n",
    "print(u)\n",
    "print(sigma)\n",
    "print(vt)"
   ]
  },
  {
   "cell_type": "code",
   "execution_count": 12,
   "id": "10605f32",
   "metadata": {},
   "outputs": [
    {
     "name": "stdout",
     "output_type": "stream",
     "text": [
      "[[-0.23197069 -0.78583024  0.40824829]\n",
      " [-0.52532209 -0.08675134 -0.81649658]\n",
      " [-0.8186735   0.61232756  0.40824829]]\n",
      "[ 1.61168440e+01 -1.11684397e+00 -1.30367773e-15]\n"
     ]
    }
   ],
   "source": [
    "#P129\n",
    "import numpy as np\n",
    "A=np.array([[1,2,3],[4,5,6],[7,8,9]])\n",
    "V,U=np.linalg.eig(A)    #求解特征值，单位化特征向量\n",
    "print(U) \n",
    "print(V)"
   ]
  },
  {
   "cell_type": "code",
   "execution_count": 7,
   "id": "11c40e75",
   "metadata": {},
   "outputs": [
    {
     "name": "stdout",
     "output_type": "stream",
     "text": [
      "22.409298163270435\n"
     ]
    }
   ],
   "source": [
    "#P115\n",
    "import numpy as np\n",
    "A=np.array([[0,1,2,3],[4,5,6,7],[8,9,10,11]])\n",
    "n=np.linalg.norm(A,ord=2)   #计算矩阵范数的功能。函数的输入参数为要计算的矩阵，以及范数的类型，如果类型值为2，则计算谱范数。\n",
    "print(n)"
   ]
  },
  {
   "cell_type": "markdown",
   "id": "ef13b859",
   "metadata": {},
   "source": [
    "## 广义逆"
   ]
  },
  {
   "cell_type": "markdown",
   "id": "3ca5c3e7",
   "metadata": {},
   "source": [
    "##左右逆有问题"
   ]
  },
  {
   "cell_type": "code",
   "execution_count": 22,
   "id": "1414a974",
   "metadata": {},
   "outputs": [
    {
     "name": "stdout",
     "output_type": "stream",
     "text": [
      "Matrix A:\n",
      "[[4 5 0]\n",
      " [0 5 0]]\n",
      "\n",
      "Pseudo-Inverse of A:\n",
      "[[ 2.50000000e-01 -2.50000000e-01]\n",
      " [ 4.48057086e-17  2.00000000e-01]\n",
      " [ 0.00000000e+00  0.00000000e+00]]\n",
      "\n",
      "Left Inverse of A:\n",
      "[[1.00000000e+00 2.77555756e-16 0.00000000e+00]\n",
      " [1.79222834e-16 1.00000000e+00 0.00000000e+00]\n",
      " [0.00000000e+00 0.00000000e+00 0.00000000e+00]]\n",
      "\n",
      "Right Inverse of A:\n",
      "[[1.00000000e+00 2.77555756e-16]\n",
      " [2.24028543e-16 1.00000000e+00]]\n"
     ]
    }
   ],
   "source": [
    "import numpy as np\n",
    "\n",
    "# 定义一个矩阵\n",
    "A = np.array([[4, 5, 0], [0, 5, 0]])\n",
    "\n",
    "# 计算矩阵的广义逆\n",
    "A_pinv = np.linalg.pinv(A)\n",
    "\n",
    "print(\"Matrix A:\")\n",
    "print(A)\n",
    "\n",
    "print(\"\\nPseudo-Inverse of A:\")\n",
    "print(A_pinv)\n",
    "\n",
    "# 计算左逆\n",
    "left_inverse = np.dot(A_pinv, A)\n",
    "\n",
    "# 计算右逆\n",
    "right_inverse = np.dot(A, A_pinv)\n",
    "\n",
    "print(\"\\nLeft Inverse of A:\")\n",
    "print(left_inverse)\n",
    "\n",
    "print(\"\\nRight Inverse of A:\")\n",
    "print(right_inverse)"
   ]
  },
  {
   "cell_type": "code",
   "execution_count": 19,
   "id": "578cfd98",
   "metadata": {},
   "outputs": [
    {
     "name": "stdout",
     "output_type": "stream",
     "text": [
      "Matrix A:\n",
      "[[ 1  0 -1  1]\n",
      " [ 0  2  2  2]\n",
      " [-1  4  5  3]]\n",
      "\n",
      "Pseudo-Inverse of A:\n",
      "[[ 2.77777778e-01  1.11111111e-01 -5.55555556e-02]\n",
      " [ 5.55555556e-02  5.55555556e-02  5.55555556e-02]\n",
      " [-2.22222222e-01 -5.55555556e-02  1.11111111e-01]\n",
      " [ 3.33333333e-01  1.66666667e-01  2.99359462e-17]]\n"
     ]
    }
   ],
   "source": [
    "import numpy as np\n",
    "\n",
    "# 定义一个矩阵\n",
    "A = np.array([[1,0,-1,1],[0,2,2,2],[-1,4,5,3]])\n",
    "\n",
    "# 计算矩阵的广义逆\n",
    "A_pinv = np.linalg.pinv(A)\n",
    "\n",
    "print(\"Matrix A:\")\n",
    "print(A)\n",
    "\n",
    "print(\"\\nPseudo-Inverse of A:\")\n",
    "print(A_pinv)"
   ]
  },
  {
   "cell_type": "code",
   "execution_count": 21,
   "id": "fad88cfc",
   "metadata": {},
   "outputs": [
    {
     "name": "stdout",
     "output_type": "stream",
     "text": [
      "Matrix A:\n",
      "[[ 1 -1]\n",
      " [ 0  0]]\n",
      "\n",
      "Pseudo-Inverse of A:\n",
      "[[ 0.5  0. ]\n",
      " [-0.5  0. ]]\n"
     ]
    }
   ],
   "source": [
    "#再重新试一遍，分数很不好表示\n",
    "import numpy as np\n",
    "\n",
    "# 定义一个矩阵\n",
    "A = np.array([[1,-1],[0,0]])\n",
    "\n",
    "# 计算矩阵的广义逆\n",
    "A_pinv = np.linalg.pinv(A)\n",
    "\n",
    "print(\"Matrix A:\")\n",
    "print(A)\n",
    "\n",
    "print(\"\\nPseudo-Inverse of A:\")\n",
    "print(A_pinv)"
   ]
  },
  {
   "cell_type": "markdown",
   "id": "717b4a93",
   "metadata": {},
   "source": [
    "## 矩阵条件数"
   ]
  },
  {
   "cell_type": "code",
   "execution_count": 8,
   "id": "9b4c75c0",
   "metadata": {},
   "outputs": [
    {
     "name": "stdout",
     "output_type": "stream",
     "text": [
      "5.0\n"
     ]
    }
   ],
   "source": [
    "#P116\n",
    "import numpy as np\n",
    "A = np.array([[1,0,0],[0,1,0],[0,0,5]])\n",
    "c=np.linalg.cond(A)    #计算矩阵条件数的功能\n",
    "print(c)"
   ]
  },
  {
   "cell_type": "markdown",
   "id": "81543bb3",
   "metadata": {},
   "source": [
    "## Kroneckor积和Hadamard积\n",
    "### Kroneckor积"
   ]
  },
  {
   "cell_type": "code",
   "execution_count": 14,
   "id": "b4a374c6",
   "metadata": {},
   "outputs": [
    {
     "name": "stdout",
     "output_type": "stream",
     "text": [
      "Matrix A:\n",
      "[[1 2]\n",
      " [3 4]]\n",
      "\n",
      "Matrix B:\n",
      "[[5 6]\n",
      " [7 8]]\n",
      "\n",
      "Kronecker Product of A and B:\n",
      "[[ 5  6 10 12]\n",
      " [ 7  8 14 16]\n",
      " [15 18 20 24]\n",
      " [21 24 28 32]]\n"
     ]
    }
   ],
   "source": [
    "import numpy as np\n",
    "\n",
    "# 定义两个矩阵\n",
    "A = np.array([[1, 2], [3, 4]])\n",
    "B = np.array([[5, 6], [7, 8]])\n",
    "\n",
    "# 计算Kronecker积\n",
    "kron_result = np.kron(A, B)\n",
    "\n",
    "print(\"Matrix A:\")\n",
    "print(A)\n",
    "\n",
    "print(\"\\nMatrix B:\")\n",
    "print(B)\n",
    "\n",
    "print(\"\\nKronecker Product of A and B:\")\n",
    "print(kron_result)"
   ]
  },
  {
   "cell_type": "markdown",
   "id": "c6c7268f",
   "metadata": {},
   "source": [
    "### Hadamard积"
   ]
  },
  {
   "cell_type": "code",
   "execution_count": 15,
   "id": "67ee1251",
   "metadata": {},
   "outputs": [
    {
     "name": "stdout",
     "output_type": "stream",
     "text": [
      "Matrix A:\n",
      "[[1 2]\n",
      " [3 4]]\n",
      "\n",
      "Matrix B:\n",
      "[[5 6]\n",
      " [7 8]]\n",
      "\n",
      "Hadamard Product of A and B:\n",
      "[[ 5 12]\n",
      " [21 32]]\n"
     ]
    }
   ],
   "source": [
    "import numpy as np\n",
    "\n",
    "# 定义两个矩阵\n",
    "A = np.array([[1, 2], [3, 4]])\n",
    "B = np.array([[5, 6], [7, 8]])\n",
    "\n",
    "# 计算Hadamard积\n",
    "hadamard_result = A * B\n",
    "\n",
    "print(\"Matrix A:\")\n",
    "print(A)\n",
    "\n",
    "print(\"\\nMatrix B:\")\n",
    "print(B)\n",
    "\n",
    "print(\"\\nHadamard Product of A and B:\")\n",
    "print(hadamard_result)"
   ]
  },
  {
   "cell_type": "markdown",
   "id": "a4c46c9b",
   "metadata": {},
   "source": [
    "#看的乱花渐欲迷人眼，试试小数分数转换"
   ]
  },
  {
   "cell_type": "code",
   "execution_count": 24,
   "id": "c2974572",
   "metadata": {},
   "outputs": [
    {
     "name": "stdout",
     "output_type": "stream",
     "text": [
      "Decimal Number: 0.111111111\n",
      "Fraction Result: 1/9\n"
     ]
    }
   ],
   "source": [
    "from fractions import Fraction\n",
    "\n",
    "# 将小数转换为分数\n",
    "decimal_number = 1.11111111e-01\n",
    "fraction_result = Fraction(decimal_number).limit_denominator()\n",
    "\n",
    "print(\"Decimal Number:\", decimal_number)\n",
    "print(\"Fraction Result:\", fraction_result)"
   ]
  }
 ],
 "metadata": {
  "kernelspec": {
   "display_name": "Python 3 (ipykernel)",
   "language": "python",
   "name": "python3"
  },
  "language_info": {
   "codemirror_mode": {
    "name": "ipython",
    "version": 3
   },
   "file_extension": ".py",
   "mimetype": "text/x-python",
   "name": "python",
   "nbconvert_exporter": "python",
   "pygments_lexer": "ipython3",
   "version": "3.9.13"
  }
 },
 "nbformat": 4,
 "nbformat_minor": 5
}
